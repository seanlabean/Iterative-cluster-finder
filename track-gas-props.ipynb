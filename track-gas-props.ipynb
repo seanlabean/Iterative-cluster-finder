{
 "cells": [
  {
   "cell_type": "code",
   "execution_count": 21,
   "metadata": {},
   "outputs": [
    {
     "name": "stdout",
     "output_type": "stream",
     "text": [
      "2529.1673575601676\n"
     ]
    }
   ],
   "source": [
    "import yt\n",
    "import numpy as np\n",
    "mH = 1.6735575e-24\n",
    "# run number density\n",
    "r_nd = 4.232707e-21 / mH\n",
    "print(r_nd)"
   ]
  },
  {
   "cell_type": "code",
   "execution_count": 56,
   "metadata": {},
   "outputs": [
    {
     "name": "stderr",
     "output_type": "stream",
     "text": [
      "yt : [INFO     ] 2022-05-25 09:27:11,980 Particle file found: 2tff_hdf5_plt_2070\n",
      "yt : [INFO     ] 2022-05-25 09:27:12,019 Parameters: current_time              = 142220791508864.84\n",
      "yt : [INFO     ] 2022-05-25 09:27:12,019 Parameters: domain_dimensions         = [16 16 16]\n",
      "yt : [INFO     ] 2022-05-25 09:27:12,020 Parameters: domain_left_edge          = [-2.6999e+19 -2.6999e+19 -2.6999e+19]\n",
      "yt : [INFO     ] 2022-05-25 09:27:12,021 Parameters: domain_right_edge         = [2.6999e+19 2.6999e+19 2.6999e+19]\n",
      "yt : [INFO     ] 2022-05-25 09:27:12,023 Parameters: cosmological_simulation   = 0.0\n"
     ]
    },
    {
     "name": "stdout",
     "output_type": "stream",
     "text": [
      "Total gas mass on grid 4725.24\n",
      "Frac unbound: 0.38, mass unbound: 1776.10\n",
      "Frac bound: 0.62, mass bound: 2949.15\n",
      "Frac dense: 0.09, mass dense: 411.22\n",
      "Frac cold: 0.65, mass cold: 3052.01\n",
      "Frac cold, bound: 0.57, mass cold, bound: 2685.76\n",
      "Frac bound:, cold and dense: 0.06, mass bound, cold and dense: 305.24\n"
     ]
    }
   ],
   "source": [
    "ds = yt.load(\"/Users/sean/GitRepos/Torch-Repositories/Torch-Analysis/Paper1-runs-snapshots/L3-v/2tff_hdf5_plt_2070\")\n",
    "#ds = yt.load(\"/Users/sean/GitRepos/Torch-Repositories/Torch-Analysis/Paper1-runs-snapshots/L3-50M/2tff_hdf5_plt_2133\")\n",
    "#ds = yt.load(\"/Users/sean/GitRepos/Torch-Repositories/Torch-Analysis/Paper1-runs-snapshots/L3-70M/2tff_hdf5_plt_1334\")\n",
    "#ds = yt.load(\"/Users/sean/GitRepos/Torch-Repositories/Torch-Analysis/Paper1-runs-snapshots/L3-100M/2tff_hdf5_plt_1981\")\n",
    "\n",
    "ad = ds.all_data()\n",
    "\n",
    "cell_mass = ad['cell_mass'].v\n",
    "cell_vx = ad['velx'].v\n",
    "cell_vy = ad['vely'].v\n",
    "cell_vz = ad['velz'].v\n",
    "\n",
    "gas_KE = 0.5*cell_mass*(cell_vx**2 + cell_vy**2 + cell_vz**2)\n",
    "gas_EI = cell_mass*ad['eint'].v\n",
    "gas_ME = ad['magp'].v*ad['cell_volume'].v / 4.0 / np.pi\n",
    "\n",
    "g_on_g_PE = 0.5*ad['gpot'].v*cell_mass\n",
    "s_on_g_PE = ad['bgpt'].v*cell_mass\n",
    "\n",
    "gas_TE = gas_KE+gas_EI+gas_ME+g_on_g_PE+s_on_g_PE\n",
    "\n",
    "unbound_ind = np.where(gas_TE > 0.)\n",
    "bound_ind = np.where(gas_TE < 0.)\n",
    "dens_ind = np.where(ad['dens'] > 1e4 * mH)\n",
    "cold_ind = np.where(ad['temp'] < 100.)\n",
    "bound_dens_ind = np.where((gas_TE < 0.) & (ad['dens'] > 1e4 * mH) & (ad['temp'] < 100.))\n",
    "cold_bound_ind = np.where((ad['temp'] < 100.) & (gas_TE < 0.))\n",
    "\n",
    "gas_TM = np.sum(cell_mass)\n",
    "frac_unbound = np.sum(cell_mass[unbound_ind])/gas_TM\n",
    "frac_bound = np.sum(cell_mass[bound_ind])/gas_TM\n",
    "frac_dens = np.sum(cell_mass[dens_ind])/gas_TM\n",
    "frac_cold = np.sum(cell_mass[cold_ind])/gas_TM\n",
    "frac_bound_dens = np.sum(cell_mass[bound_dens_ind])/gas_TM\n",
    "frac_cold_bound = np.sum(cell_mass[cold_bound_ind])/gas_TM\n",
    "\n",
    "print(\"Total gas mass on grid {:.2f}\".format(gas_TM*5.0279e-34))\n",
    "print(\"Frac unbound: {:.2f}, mass unbound: {:.2f}\".format(frac_unbound, \n",
    "                                                np.sum(cell_mass[unbound_ind])*5.0279e-34))\n",
    "print(\"Frac bound: {:.2f}, mass bound: {:.2f}\".format(frac_bound, \n",
    "                                            np.sum(cell_mass[bound_ind])*5.0279e-34))\n",
    "print(\"Frac dense: {:.2f}, mass dense: {:.2f}\".format(frac_dens, \n",
    "                                            np.sum(cell_mass[dens_ind])*5.0279e-34))\n",
    "print(\"Frac cold: {:.2f}, mass cold: {:.2f}\".format(frac_cold, \n",
    "                                            np.sum(cell_mass[cold_ind])*5.0279e-34))\n",
    "print(\"Frac cold, bound: {:.2f}, mass cold, bound: {:.2f}\".format(frac_cold_bound, \n",
    "                                            np.sum(cell_mass[cold_bound_ind])*5.0279e-34))\n",
    "print(\"Frac bound:, cold and dense: {:.2f}, mass bound, cold and dense: {:.2f}\".format(frac_bound_dens, \n",
    "                                                                np.sum(cell_mass[bound_dens_ind])*5.0279e-34))"
   ]
  },
  {
   "cell_type": "code",
   "execution_count": 19,
   "metadata": {},
   "outputs": [
    {
     "data": {
      "text/plain": [
       "40437.56210311439"
      ]
     },
     "execution_count": 19,
     "metadata": {},
     "output_type": "execute_result"
    }
   ],
   "source": [
    "# 1e3 Msun/pc^3\n",
    "1e3 / 5.0279e-34  / (3.086e+18)**3 / 1.6735575e-24"
   ]
  },
  {
   "cell_type": "code",
   "execution_count": null,
   "metadata": {},
   "outputs": [],
   "source": []
  }
 ],
 "metadata": {
  "kernelspec": {
   "display_name": "Python 3",
   "language": "python",
   "name": "python3"
  },
  "language_info": {
   "codemirror_mode": {
    "name": "ipython",
    "version": 3
   },
   "file_extension": ".py",
   "mimetype": "text/x-python",
   "name": "python",
   "nbconvert_exporter": "python",
   "pygments_lexer": "ipython3",
   "version": "3.7.7"
  }
 },
 "nbformat": 4,
 "nbformat_minor": 4
}
